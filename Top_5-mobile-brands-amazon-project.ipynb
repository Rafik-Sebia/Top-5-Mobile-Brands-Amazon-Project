{
 "cells": [
  {
   "attachments": {},
   "cell_type": "markdown",
   "metadata": {},
   "source": [
    "# Top 5 Mobile Brands Amazon Project"
   ]
  },
  {
   "attachments": {},
   "cell_type": "markdown",
   "metadata": {},
   "source": [
    "In this project, we will analyze a dataset containing 1900+ details of the Top five smartphone brands of India (Apple, Samsung, Xiaomi, Oppo, Vivo) listed on amazon containing necessary details such as product description, Price, Rating, ReviewCount, and Url."
   ]
  },
  {
   "attachments": {},
   "cell_type": "markdown",
   "metadata": {},
   "source": [
    "We will start by importing the data, putting it into a Pandas DataFrame, cleaning it, and finally doing some exploratory data analysis."
   ]
  },
  {
   "attachments": {},
   "cell_type": "markdown",
   "metadata": {},
   "source": [
    "### 1 - Import and Cleaning the Data"
   ]
  },
  {
   "cell_type": "code",
   "execution_count": 1425,
   "metadata": {},
   "outputs": [],
   "source": [
    "import pandas as pd\n",
    "import matplotlib.pyplot as plt\n",
    "import seaborn as sns\n",
    "\n",
    "top = pd.read_csv('Amazon_top5_mobilephones.csv')"
   ]
  },
  {
   "cell_type": "code",
   "execution_count": 1426,
   "metadata": {},
   "outputs": [
    {
     "data": {
      "text/html": [
       "<div>\n",
       "<style scoped>\n",
       "    .dataframe tbody tr th:only-of-type {\n",
       "        vertical-align: middle;\n",
       "    }\n",
       "\n",
       "    .dataframe tbody tr th {\n",
       "        vertical-align: top;\n",
       "    }\n",
       "\n",
       "    .dataframe thead th {\n",
       "        text-align: right;\n",
       "    }\n",
       "</style>\n",
       "<table border=\"1\" class=\"dataframe\">\n",
       "  <thead>\n",
       "    <tr style=\"text-align: right;\">\n",
       "      <th></th>\n",
       "      <th>Description</th>\n",
       "      <th>Price</th>\n",
       "      <th>Rating</th>\n",
       "      <th>ReviewCount</th>\n",
       "      <th>Url</th>\n",
       "    </tr>\n",
       "  </thead>\n",
       "  <tbody>\n",
       "    <tr>\n",
       "      <th>0</th>\n",
       "      <td>Apple iPhone 13 (128GB) - Pink</td>\n",
       "      <td>65999</td>\n",
       "      <td>4.6 out of 5 stars</td>\n",
       "      <td>7,507</td>\n",
       "      <td>https://www.amazon.in//sspa/click?ie=UTF8&amp;spc=...</td>\n",
       "    </tr>\n",
       "    <tr>\n",
       "      <th>1</th>\n",
       "      <td>Apple iPhone 13 Mini (128GB) - Pink</td>\n",
       "      <td>64900</td>\n",
       "      <td>4.5 out of 5 stars</td>\n",
       "      <td>1,341</td>\n",
       "      <td>https://www.amazon.in//sspa/click?ie=UTF8&amp;spc=...</td>\n",
       "    </tr>\n",
       "    <tr>\n",
       "      <th>2</th>\n",
       "      <td>Apple iPhone 12 (128GB) - Green</td>\n",
       "      <td>55999</td>\n",
       "      <td>4.5 out of 5 stars</td>\n",
       "      <td>4,941</td>\n",
       "      <td>https://www.amazon.in//New-Apple-iPhone-12-128...</td>\n",
       "    </tr>\n",
       "    <tr>\n",
       "      <th>3</th>\n",
       "      <td>Apple iPhone 12 (64GB) - Green</td>\n",
       "      <td>48900</td>\n",
       "      <td>4.6 out of 5 stars</td>\n",
       "      <td>1,299</td>\n",
       "      <td>https://www.amazon.in//New-Apple-iPhone-12-64G...</td>\n",
       "    </tr>\n",
       "    <tr>\n",
       "      <th>4</th>\n",
       "      <td>Apple iPhone 13 (128GB) - Green</td>\n",
       "      <td>65999</td>\n",
       "      <td>4.6 out of 5 stars</td>\n",
       "      <td>7,507</td>\n",
       "      <td>https://www.amazon.in//Apple-iPhone-13-128GB-G...</td>\n",
       "    </tr>\n",
       "  </tbody>\n",
       "</table>\n",
       "</div>"
      ],
      "text/plain": [
       "                           Description  Price              Rating ReviewCount  \\\n",
       "0       Apple iPhone 13 (128GB) - Pink  65999  4.6 out of 5 stars       7,507   \n",
       "1  Apple iPhone 13 Mini (128GB) - Pink  64900  4.5 out of 5 stars       1,341   \n",
       "2      Apple iPhone 12 (128GB) - Green  55999  4.5 out of 5 stars       4,941   \n",
       "3       Apple iPhone 12 (64GB) - Green  48900  4.6 out of 5 stars       1,299   \n",
       "4      Apple iPhone 13 (128GB) - Green  65999  4.6 out of 5 stars       7,507   \n",
       "\n",
       "                                                 Url  \n",
       "0  https://www.amazon.in//sspa/click?ie=UTF8&spc=...  \n",
       "1  https://www.amazon.in//sspa/click?ie=UTF8&spc=...  \n",
       "2  https://www.amazon.in//New-Apple-iPhone-12-128...  \n",
       "3  https://www.amazon.in//New-Apple-iPhone-12-64G...  \n",
       "4  https://www.amazon.in//Apple-iPhone-13-128GB-G...  "
      ]
     },
     "execution_count": 1426,
     "metadata": {},
     "output_type": "execute_result"
    }
   ],
   "source": [
    "top.head()"
   ]
  },
  {
   "cell_type": "code",
   "execution_count": 1427,
   "metadata": {},
   "outputs": [
    {
     "data": {
      "text/plain": [
       "(1903, 5)"
      ]
     },
     "execution_count": 1427,
     "metadata": {},
     "output_type": "execute_result"
    }
   ],
   "source": [
    "top.shape"
   ]
  },
  {
   "attachments": {},
   "cell_type": "markdown",
   "metadata": {},
   "source": [
    "The dataset contains 5 columns and 1,903 rows."
   ]
  },
  {
   "cell_type": "code",
   "execution_count": 1428,
   "metadata": {},
   "outputs": [
    {
     "name": "stdout",
     "output_type": "stream",
     "text": [
      "<class 'pandas.core.frame.DataFrame'>\n",
      "RangeIndex: 1903 entries, 0 to 1902\n",
      "Data columns (total 5 columns):\n",
      " #   Column       Non-Null Count  Dtype \n",
      "---  ------       --------------  ----- \n",
      " 0   Description  1903 non-null   object\n",
      " 1   Price        1903 non-null   int64 \n",
      " 2   Rating       1881 non-null   object\n",
      " 3   ReviewCount  1903 non-null   object\n",
      " 4   Url          1903 non-null   object\n",
      "dtypes: int64(1), object(4)\n",
      "memory usage: 74.5+ KB\n"
     ]
    }
   ],
   "source": [
    "top.info()"
   ]
  },
  {
   "attachments": {},
   "cell_type": "markdown",
   "metadata": {},
   "source": [
    "We can see that we have some missing values, and that some columns are in the wrong datatypes, so let's do some data cleaning."
   ]
  },
  {
   "cell_type": "code",
   "execution_count": 1429,
   "metadata": {},
   "outputs": [
    {
     "data": {
      "text/plain": [
       "Index(['Description', 'Price', 'Rating', 'ReviewCount', 'Url'], dtype='object')"
      ]
     },
     "execution_count": 1429,
     "metadata": {},
     "output_type": "execute_result"
    }
   ],
   "source": [
    "top.columns"
   ]
  },
  {
   "cell_type": "code",
   "execution_count": 1430,
   "metadata": {},
   "outputs": [
    {
     "data": {
      "text/plain": [
       "array([4.6, 4.5, 4. , 4.2, 4.1, 3.9, 3.7, 5. , 0. , 4.3, 3.3, 3. , 3.4,\n",
       "       3.5, 3.8, 3.2, 3.6, 2. ])"
      ]
     },
     "execution_count": 1430,
     "metadata": {},
     "output_type": "execute_result"
    }
   ],
   "source": [
    "top.columns = top.columns.str.lower()\n",
    "top = top.dropna().copy()\n",
    "\n",
    "rating = top.rating.str.split(' ').str[0]\n",
    "top.rating = rating\n",
    "top.rating = top.rating.astype('float')\n",
    "top.rating.unique()\n",
    "\n"
   ]
  },
  {
   "cell_type": "code",
   "execution_count": 1431,
   "metadata": {},
   "outputs": [
    {
     "data": {
      "text/plain": [
       "array(['7507', '1341', '4941', '1299', '130', '55461', '72', '1492',\n",
       "       '3354', '4520', '12588', '772', '18423', '82', '7251', '53216',\n",
       "       '124', '25090', '455', '5', '59745', 'No reviews', '23725',\n",
       "       '85659', '5218', '3', '40', '1274', '86', '2247', '287', '304898',\n",
       "       '31010', '57583', '9323', '30', '27', '106', '9426', '22491',\n",
       "       '1929', '6', '340', '39', '28', '92', '14', '7', '241', '458',\n",
       "       '292', '4302', '923', '1'], dtype=object)"
      ]
     },
     "execution_count": 1431,
     "metadata": {},
     "output_type": "execute_result"
    }
   ],
   "source": [
    "reviewcount = top.reviewcount.str.replace(',', '')\n",
    "top.reviewcount = reviewcount\n",
    "top.reviewcount.unique()"
   ]
  },
  {
   "cell_type": "code",
   "execution_count": 1432,
   "metadata": {},
   "outputs": [
    {
     "data": {
      "text/plain": [
       "array([  7507,   1341,   4941,   1299,    130,  55461,     72,   1492,\n",
       "         3354,   4520,  12588,    772,  18423,     82,   7251,  53216,\n",
       "          124,  25090,    455,      5,  59745,      0,  23725,  85659,\n",
       "         5218,      3,     40,   1274,     86,   2247,    287, 304898,\n",
       "        31010,  57583,   9323,     30,     27,    106,   9426,  22491,\n",
       "         1929,      6,    340,     39,     28,     92,     14,      7,\n",
       "          241,    458,    292,   4302,    923,      1])"
      ]
     },
     "execution_count": 1432,
     "metadata": {},
     "output_type": "execute_result"
    }
   ],
   "source": [
    "top.reviewcount = top.reviewcount.str.replace('New to Amazon', '0')\n",
    "top.reviewcount = top.reviewcount.str.replace('No reviews', '0')\n",
    "top.reviewcount = top.reviewcount.astype('int')\n",
    "top.reviewcount.unique()"
   ]
  },
  {
   "cell_type": "code",
   "execution_count": 1433,
   "metadata": {},
   "outputs": [
    {
     "data": {
      "text/plain": [
       "array(['Apple', 'Samsung', 'Lava', 'Redmi', 'Xiaomi ', 'Oppo', 'Vivo',\n",
       "       'IKALL'], dtype=object)"
      ]
     },
     "execution_count": 1433,
     "metadata": {},
     "output_type": "execute_result"
    }
   ],
   "source": [
    "top['brand'] = top['description'].apply(lambda x : 'Samsung' if 'SAMSUNG' in x or 'Samsung' in x else x)\n",
    "top['brand'] = top['brand'].apply(lambda x : 'Vivo' if 'vivo' in x or 'Vivo' in x else x)\n",
    "top['brand'] = top['brand'].apply(lambda x : 'Oppo' if 'OPPO' in x or 'Oppo' in x else x)\n",
    "top['brand'] = top['brand'].apply(lambda x : 'Xiaomi ' if 'Xiaomi ' in x or 'Mi ' in x or 'MI ' in x else x)\n",
    "top['brand'] = top['brand'].apply(lambda x : 'Apple' if 'Apple' in x else x)\n",
    "top['brand'] = top['brand'].apply(lambda x : 'Lava' if 'Lava' in x else x)\n",
    "top['brand'] = top['brand'].apply(lambda x : 'Redmi' if 'Redmi' in x else x)\n",
    "top['brand'] = top['brand'].apply(lambda x : 'IKALL' if 'IKALL' in x else x)\n",
    "\n",
    "renewed_brand = top[top.brand.str.contains('(?:Renewed)')].copy()\n",
    "renewed_brand.brand = renewed_brand.brand.str.split(' ').str[1]\n",
    "\n",
    "top.update(renewed_brand)\n",
    "top.brand.unique()"
   ]
  },
  {
   "cell_type": "code",
   "execution_count": 1434,
   "metadata": {},
   "outputs": [
    {
     "data": {
      "text/plain": [
       "Index(['description', 'price', 'rating', 'reviewcount', 'url', 'brand'], dtype='object')"
      ]
     },
     "execution_count": 1434,
     "metadata": {},
     "output_type": "execute_result"
    }
   ],
   "source": [
    "top.columns"
   ]
  },
  {
   "cell_type": "code",
   "execution_count": 1435,
   "metadata": {},
   "outputs": [
    {
     "data": {
      "text/html": [
       "<div>\n",
       "<style scoped>\n",
       "    .dataframe tbody tr th:only-of-type {\n",
       "        vertical-align: middle;\n",
       "    }\n",
       "\n",
       "    .dataframe tbody tr th {\n",
       "        vertical-align: top;\n",
       "    }\n",
       "\n",
       "    .dataframe thead th {\n",
       "        text-align: right;\n",
       "    }\n",
       "</style>\n",
       "<table border=\"1\" class=\"dataframe\">\n",
       "  <thead>\n",
       "    <tr style=\"text-align: right;\">\n",
       "      <th></th>\n",
       "      <th>brand</th>\n",
       "      <th>description</th>\n",
       "      <th>price</th>\n",
       "      <th>rating</th>\n",
       "      <th>reviewcount</th>\n",
       "      <th>url</th>\n",
       "    </tr>\n",
       "  </thead>\n",
       "  <tbody>\n",
       "    <tr>\n",
       "      <th>0</th>\n",
       "      <td>Apple</td>\n",
       "      <td>Apple iPhone 13 (128GB) - Pink</td>\n",
       "      <td>65999</td>\n",
       "      <td>4.6</td>\n",
       "      <td>7507</td>\n",
       "      <td>https://www.amazon.in//sspa/click?ie=UTF8&amp;spc=...</td>\n",
       "    </tr>\n",
       "    <tr>\n",
       "      <th>1</th>\n",
       "      <td>Apple</td>\n",
       "      <td>Apple iPhone 13 Mini (128GB) - Pink</td>\n",
       "      <td>64900</td>\n",
       "      <td>4.5</td>\n",
       "      <td>1341</td>\n",
       "      <td>https://www.amazon.in//sspa/click?ie=UTF8&amp;spc=...</td>\n",
       "    </tr>\n",
       "    <tr>\n",
       "      <th>2</th>\n",
       "      <td>Apple</td>\n",
       "      <td>Apple iPhone 12 (128GB) - Green</td>\n",
       "      <td>55999</td>\n",
       "      <td>4.5</td>\n",
       "      <td>4941</td>\n",
       "      <td>https://www.amazon.in//New-Apple-iPhone-12-128...</td>\n",
       "    </tr>\n",
       "    <tr>\n",
       "      <th>3</th>\n",
       "      <td>Apple</td>\n",
       "      <td>Apple iPhone 12 (64GB) - Green</td>\n",
       "      <td>48900</td>\n",
       "      <td>4.6</td>\n",
       "      <td>1299</td>\n",
       "      <td>https://www.amazon.in//New-Apple-iPhone-12-64G...</td>\n",
       "    </tr>\n",
       "    <tr>\n",
       "      <th>4</th>\n",
       "      <td>Apple</td>\n",
       "      <td>Apple iPhone 13 (128GB) - Green</td>\n",
       "      <td>65999</td>\n",
       "      <td>4.6</td>\n",
       "      <td>7507</td>\n",
       "      <td>https://www.amazon.in//Apple-iPhone-13-128GB-G...</td>\n",
       "    </tr>\n",
       "  </tbody>\n",
       "</table>\n",
       "</div>"
      ],
      "text/plain": [
       "   brand                          description  price  rating  reviewcount  \\\n",
       "0  Apple       Apple iPhone 13 (128GB) - Pink  65999     4.6         7507   \n",
       "1  Apple  Apple iPhone 13 Mini (128GB) - Pink  64900     4.5         1341   \n",
       "2  Apple      Apple iPhone 12 (128GB) - Green  55999     4.5         4941   \n",
       "3  Apple       Apple iPhone 12 (64GB) - Green  48900     4.6         1299   \n",
       "4  Apple      Apple iPhone 13 (128GB) - Green  65999     4.6         7507   \n",
       "\n",
       "                                                 url  \n",
       "0  https://www.amazon.in//sspa/click?ie=UTF8&spc=...  \n",
       "1  https://www.amazon.in//sspa/click?ie=UTF8&spc=...  \n",
       "2  https://www.amazon.in//New-Apple-iPhone-12-128...  \n",
       "3  https://www.amazon.in//New-Apple-iPhone-12-64G...  \n",
       "4  https://www.amazon.in//Apple-iPhone-13-128GB-G...  "
      ]
     },
     "execution_count": 1435,
     "metadata": {},
     "output_type": "execute_result"
    }
   ],
   "source": [
    "top = top[['brand', 'description', 'price', 'rating', 'reviewcount', 'url']]\n",
    "top.head()"
   ]
  },
  {
   "cell_type": "code",
   "execution_count": 1436,
   "metadata": {},
   "outputs": [
    {
     "name": "stdout",
     "output_type": "stream",
     "text": [
      "<class 'pandas.core.frame.DataFrame'>\n",
      "Int64Index: 1881 entries, 0 to 1902\n",
      "Data columns (total 6 columns):\n",
      " #   Column       Non-Null Count  Dtype  \n",
      "---  ------       --------------  -----  \n",
      " 0   brand        1881 non-null   object \n",
      " 1   description  1881 non-null   object \n",
      " 2   price        1881 non-null   int64  \n",
      " 3   rating       1881 non-null   float64\n",
      " 4   reviewcount  1881 non-null   int32  \n",
      " 5   url          1881 non-null   object \n",
      "dtypes: float64(1), int32(1), int64(1), object(3)\n",
      "memory usage: 95.5+ KB\n"
     ]
    }
   ],
   "source": [
    "top.info()"
   ]
  },
  {
   "attachments": {},
   "cell_type": "markdown",
   "metadata": {},
   "source": [
    "Now the data is clean and the columns are in the correct datatypes, we can proceed with the analysis."
   ]
  },
  {
   "attachments": {},
   "cell_type": "markdown",
   "metadata": {},
   "source": [
    "### 2 - Exploratory Data Analysis"
   ]
  },
  {
   "attachments": {},
   "cell_type": "markdown",
   "metadata": {},
   "source": [
    "Let's start with some descriptive statistics."
   ]
  },
  {
   "cell_type": "code",
   "execution_count": 1437,
   "metadata": {},
   "outputs": [
    {
     "data": {
      "text/html": [
       "<div>\n",
       "<style scoped>\n",
       "    .dataframe tbody tr th:only-of-type {\n",
       "        vertical-align: middle;\n",
       "    }\n",
       "\n",
       "    .dataframe tbody tr th {\n",
       "        vertical-align: top;\n",
       "    }\n",
       "\n",
       "    .dataframe thead th {\n",
       "        text-align: right;\n",
       "    }\n",
       "</style>\n",
       "<table border=\"1\" class=\"dataframe\">\n",
       "  <thead>\n",
       "    <tr style=\"text-align: right;\">\n",
       "      <th></th>\n",
       "      <th>brand</th>\n",
       "      <th>description</th>\n",
       "      <th>price</th>\n",
       "      <th>rating</th>\n",
       "      <th>reviewcount</th>\n",
       "      <th>url</th>\n",
       "    </tr>\n",
       "  </thead>\n",
       "  <tbody>\n",
       "    <tr>\n",
       "      <th>count</th>\n",
       "      <td>1881</td>\n",
       "      <td>1881</td>\n",
       "      <td>1881.000000</td>\n",
       "      <td>1881.000000</td>\n",
       "      <td>1881.000000</td>\n",
       "      <td>1881</td>\n",
       "    </tr>\n",
       "    <tr>\n",
       "      <th>unique</th>\n",
       "      <td>8</td>\n",
       "      <td>91</td>\n",
       "      <td>NaN</td>\n",
       "      <td>NaN</td>\n",
       "      <td>NaN</td>\n",
       "      <td>1881</td>\n",
       "    </tr>\n",
       "    <tr>\n",
       "      <th>top</th>\n",
       "      <td>Samsung</td>\n",
       "      <td>Lava Blaze 5G (Glass Green, 4GB RAM, UFS 2.2 1...</td>\n",
       "      <td>NaN</td>\n",
       "      <td>NaN</td>\n",
       "      <td>NaN</td>\n",
       "      <td>https://www.amazon.in//sspa/click?ie=UTF8&amp;spc=...</td>\n",
       "    </tr>\n",
       "    <tr>\n",
       "      <th>freq</th>\n",
       "      <td>440</td>\n",
       "      <td>41</td>\n",
       "      <td>NaN</td>\n",
       "      <td>NaN</td>\n",
       "      <td>NaN</td>\n",
       "      <td>1</td>\n",
       "    </tr>\n",
       "    <tr>\n",
       "      <th>mean</th>\n",
       "      <td>NaN</td>\n",
       "      <td>NaN</td>\n",
       "      <td>27927.048910</td>\n",
       "      <td>4.028177</td>\n",
       "      <td>14753.665603</td>\n",
       "      <td>NaN</td>\n",
       "    </tr>\n",
       "    <tr>\n",
       "      <th>std</th>\n",
       "      <td>NaN</td>\n",
       "      <td>NaN</td>\n",
       "      <td>23029.375164</td>\n",
       "      <td>0.606659</td>\n",
       "      <td>35262.708585</td>\n",
       "      <td>NaN</td>\n",
       "    </tr>\n",
       "    <tr>\n",
       "      <th>min</th>\n",
       "      <td>NaN</td>\n",
       "      <td>NaN</td>\n",
       "      <td>5224.000000</td>\n",
       "      <td>0.000000</td>\n",
       "      <td>0.000000</td>\n",
       "      <td>NaN</td>\n",
       "    </tr>\n",
       "    <tr>\n",
       "      <th>25%</th>\n",
       "      <td>NaN</td>\n",
       "      <td>NaN</td>\n",
       "      <td>12660.000000</td>\n",
       "      <td>4.000000</td>\n",
       "      <td>82.000000</td>\n",
       "      <td>NaN</td>\n",
       "    </tr>\n",
       "    <tr>\n",
       "      <th>50%</th>\n",
       "      <td>NaN</td>\n",
       "      <td>NaN</td>\n",
       "      <td>18499.000000</td>\n",
       "      <td>4.100000</td>\n",
       "      <td>2247.000000</td>\n",
       "      <td>NaN</td>\n",
       "    </tr>\n",
       "    <tr>\n",
       "      <th>75%</th>\n",
       "      <td>NaN</td>\n",
       "      <td>NaN</td>\n",
       "      <td>32999.000000</td>\n",
       "      <td>4.300000</td>\n",
       "      <td>12588.000000</td>\n",
       "      <td>NaN</td>\n",
       "    </tr>\n",
       "    <tr>\n",
       "      <th>max</th>\n",
       "      <td>NaN</td>\n",
       "      <td>NaN</td>\n",
       "      <td>111900.000000</td>\n",
       "      <td>5.000000</td>\n",
       "      <td>304898.000000</td>\n",
       "      <td>NaN</td>\n",
       "    </tr>\n",
       "  </tbody>\n",
       "</table>\n",
       "</div>"
      ],
      "text/plain": [
       "          brand                                        description  \\\n",
       "count      1881                                               1881   \n",
       "unique        8                                                 91   \n",
       "top     Samsung  Lava Blaze 5G (Glass Green, 4GB RAM, UFS 2.2 1...   \n",
       "freq        440                                                 41   \n",
       "mean        NaN                                                NaN   \n",
       "std         NaN                                                NaN   \n",
       "min         NaN                                                NaN   \n",
       "25%         NaN                                                NaN   \n",
       "50%         NaN                                                NaN   \n",
       "75%         NaN                                                NaN   \n",
       "max         NaN                                                NaN   \n",
       "\n",
       "                price       rating    reviewcount  \\\n",
       "count     1881.000000  1881.000000    1881.000000   \n",
       "unique            NaN          NaN            NaN   \n",
       "top               NaN          NaN            NaN   \n",
       "freq              NaN          NaN            NaN   \n",
       "mean     27927.048910     4.028177   14753.665603   \n",
       "std      23029.375164     0.606659   35262.708585   \n",
       "min       5224.000000     0.000000       0.000000   \n",
       "25%      12660.000000     4.000000      82.000000   \n",
       "50%      18499.000000     4.100000    2247.000000   \n",
       "75%      32999.000000     4.300000   12588.000000   \n",
       "max     111900.000000     5.000000  304898.000000   \n",
       "\n",
       "                                                      url  \n",
       "count                                                1881  \n",
       "unique                                               1881  \n",
       "top     https://www.amazon.in//sspa/click?ie=UTF8&spc=...  \n",
       "freq                                                    1  \n",
       "mean                                                  NaN  \n",
       "std                                                   NaN  \n",
       "min                                                   NaN  \n",
       "25%                                                   NaN  \n",
       "50%                                                   NaN  \n",
       "75%                                                   NaN  \n",
       "max                                                   NaN  "
      ]
     },
     "execution_count": 1437,
     "metadata": {},
     "output_type": "execute_result"
    }
   ],
   "source": [
    "top.describe(include='all')"
   ]
  },
  {
   "attachments": {},
   "cell_type": "markdown",
   "metadata": {},
   "source": [
    "Now let's look at which brand has the highest number of smartphone models available in this dataset, as well as the brand with the least number."
   ]
  },
  {
   "cell_type": "code",
   "execution_count": 1438,
   "metadata": {},
   "outputs": [
    {
     "data": {
      "image/png": "[encoded data removed]",
      "text/plain": [
       "<Figure size 1296x648 with 1 Axes>"
      ]
     },
     "metadata": {
      "needs_background": "light"
     },
     "output_type": "display_data"
    },
    {
     "data": {
      "text/plain": [
       "<Figure size 432x288 with 0 Axes>"
      ]
     },
     "metadata": {},
     "output_type": "display_data"
    }
   ],
   "source": [
    "plt.figure(figsize=(18, 9))\n",
    "ax = sns.countplot(x='brand', data=top)\n",
    "ax.bar_label(ax.containers[0])\n",
    "plt.title(\"Model count per brand\")\n",
    "plt.show()\n",
    "plt.clf()"
   ]
  },
  {
   "attachments": {},
   "cell_type": "markdown",
   "metadata": {},
   "source": [
    "Samsung has the most smartphones with 440 models, while IKALL has the least with only 40."
   ]
  },
  {
   "attachments": {},
   "cell_type": "markdown",
   "metadata": {},
   "source": [
    "Now let's check the price distrubution for all smartphone models."
   ]
  },
  {
   "cell_type": "code",
   "execution_count": 1439,
   "metadata": {},
   "outputs": [
    {
     "data": {
      "image/png": "[encoded data removed]",
      "text/plain": [
       "<Figure size 1440x864 with 1 Axes>"
      ]
     },
     "metadata": {
      "needs_background": "light"
     },
     "output_type": "display_data"
    },
    {
     "data": {
      "text/plain": [
       "<Figure size 432x288 with 0 Axes>"
      ]
     },
     "metadata": {},
     "output_type": "display_data"
    }
   ],
   "source": [
    "plt.figure(figsize=(20, 12))\n",
    "sns.histplot(top['price'])\n",
    "plt.title('Distribution of smartphone prices')\n",
    "plt.show()\n",
    "plt.clf()"
   ]
  },
  {
   "attachments": {},
   "cell_type": "markdown",
   "metadata": {},
   "source": [
    "The distribution is right-skewed with the majority of the data on the left, likely due to the smartphones that are entry- and mid-level, with some expensive ones in the middle, and some outliers on the right (primarily flagship phones like iPhones and Samsung Galaxy)."
   ]
  },
  {
   "attachments": {},
   "cell_type": "markdown",
   "metadata": {},
   "source": [
    "Now let's calculate the average price per brand."
   ]
  },
  {
   "cell_type": "code",
   "execution_count": 1440,
   "metadata": {},
   "outputs": [
    {
     "data": {
      "text/html": [
       "<div>\n",
       "<style scoped>\n",
       "    .dataframe tbody tr th:only-of-type {\n",
       "        vertical-align: middle;\n",
       "    }\n",
       "\n",
       "    .dataframe tbody tr th {\n",
       "        vertical-align: top;\n",
       "    }\n",
       "\n",
       "    .dataframe thead th {\n",
       "        text-align: right;\n",
       "    }\n",
       "</style>\n",
       "<table border=\"1\" class=\"dataframe\">\n",
       "  <thead>\n",
       "    <tr style=\"text-align: right;\">\n",
       "      <th></th>\n",
       "      <th>brand</th>\n",
       "      <th>price</th>\n",
       "    </tr>\n",
       "  </thead>\n",
       "  <tbody>\n",
       "    <tr>\n",
       "      <th>0</th>\n",
       "      <td>Apple</td>\n",
       "      <td>67221.78</td>\n",
       "    </tr>\n",
       "    <tr>\n",
       "      <th>1</th>\n",
       "      <td>IKALL</td>\n",
       "      <td>6361.50</td>\n",
       "    </tr>\n",
       "    <tr>\n",
       "      <th>2</th>\n",
       "      <td>Lava</td>\n",
       "      <td>10999.00</td>\n",
       "    </tr>\n",
       "    <tr>\n",
       "      <th>3</th>\n",
       "      <td>Oppo</td>\n",
       "      <td>17086.93</td>\n",
       "    </tr>\n",
       "    <tr>\n",
       "      <th>4</th>\n",
       "      <td>Redmi</td>\n",
       "      <td>14122.88</td>\n",
       "    </tr>\n",
       "    <tr>\n",
       "      <th>5</th>\n",
       "      <td>Samsung</td>\n",
       "      <td>17973.27</td>\n",
       "    </tr>\n",
       "    <tr>\n",
       "      <th>6</th>\n",
       "      <td>Vivo</td>\n",
       "      <td>16886.75</td>\n",
       "    </tr>\n",
       "    <tr>\n",
       "      <th>7</th>\n",
       "      <td>Xiaomi</td>\n",
       "      <td>31489.91</td>\n",
       "    </tr>\n",
       "  </tbody>\n",
       "</table>\n",
       "</div>"
      ],
      "text/plain": [
       "     brand     price\n",
       "0    Apple  67221.78\n",
       "1    IKALL   6361.50\n",
       "2     Lava  10999.00\n",
       "3     Oppo  17086.93\n",
       "4    Redmi  14122.88\n",
       "5  Samsung  17973.27\n",
       "6     Vivo  16886.75\n",
       "7  Xiaomi   31489.91"
      ]
     },
     "execution_count": 1440,
     "metadata": {},
     "output_type": "execute_result"
    }
   ],
   "source": [
    "average = top.groupby('brand')['price'].mean().reset_index()\n",
    "average = round(average, 2)\n",
    "average"
   ]
  },
  {
   "cell_type": "code",
   "execution_count": 1441,
   "metadata": {},
   "outputs": [
    {
     "data": {
      "image/png": "[encoded data removed]",
      "text/plain": [
       "<Figure size 1296x648 with 1 Axes>"
      ]
     },
     "metadata": {
      "needs_background": "light"
     },
     "output_type": "display_data"
    },
    {
     "data": {
      "text/plain": [
       "<Figure size 432x288 with 0 Axes>"
      ]
     },
     "metadata": {},
     "output_type": "display_data"
    }
   ],
   "source": [
    "plt.figure(figsize=(18, 9))\n",
    "ax = sns.barplot(x ='brand', y = 'price' , data = top, ci=None)\n",
    "ax.bar_label(ax.containers[0])\n",
    "plt.title('Average Price per brand')\n",
    "plt.show()\n",
    "plt.clf()"
   ]
  },
  {
   "attachments": {},
   "cell_type": "markdown",
   "metadata": {},
   "source": [
    "Apple smartphones are by far the most expensive, with an average price of 67,221.80 rupees, while IKALL is the least expensive, averaging 6,361.50 rupees."
   ]
  },
  {
   "cell_type": "code",
   "execution_count": 1442,
   "metadata": {},
   "outputs": [
    {
     "data": {
      "image/png": "[encoded data removed]",
      "text/plain": [
       "<Figure size 1296x648 with 1 Axes>"
      ]
     },
     "metadata": {
      "needs_background": "light"
     },
     "output_type": "display_data"
    },
    {
     "data": {
      "text/plain": [
       "<Figure size 432x288 with 0 Axes>"
      ]
     },
     "metadata": {},
     "output_type": "display_data"
    }
   ],
   "source": [
    "plt.figure(figsize=(18, 9))\n",
    "ax = sns.countplot(x='rating', data=top)\n",
    "ax.bar_label(ax.containers[0])\n",
    "plt.title(\"Rating Count\")\n",
    "plt.show()\n",
    "plt.clf()"
   ]
  },
  {
   "attachments": {},
   "cell_type": "markdown",
   "metadata": {},
   "source": [
    "The majority of the ratings are on the high side (greater than 4 out of 5), with most phones being rated a 4.1, and some phones even receiving a rating of 5 out of 5."
   ]
  },
  {
   "attachments": {},
   "cell_type": "markdown",
   "metadata": {},
   "source": [
    "Let's calculate the average rating per brand."
   ]
  },
  {
   "cell_type": "code",
   "execution_count": 1443,
   "metadata": {},
   "outputs": [
    {
     "data": {
      "text/html": [
       "<div>\n",
       "<style scoped>\n",
       "    .dataframe tbody tr th:only-of-type {\n",
       "        vertical-align: middle;\n",
       "    }\n",
       "\n",
       "    .dataframe tbody tr th {\n",
       "        vertical-align: top;\n",
       "    }\n",
       "\n",
       "    .dataframe thead th {\n",
       "        text-align: right;\n",
       "    }\n",
       "</style>\n",
       "<table border=\"1\" class=\"dataframe\">\n",
       "  <thead>\n",
       "    <tr style=\"text-align: right;\">\n",
       "      <th></th>\n",
       "      <th>brand</th>\n",
       "      <th>rating</th>\n",
       "    </tr>\n",
       "  </thead>\n",
       "  <tbody>\n",
       "    <tr>\n",
       "      <th>0</th>\n",
       "      <td>Apple</td>\n",
       "      <td>4.56</td>\n",
       "    </tr>\n",
       "    <tr>\n",
       "      <th>1</th>\n",
       "      <td>IKALL</td>\n",
       "      <td>3.15</td>\n",
       "    </tr>\n",
       "    <tr>\n",
       "      <th>2</th>\n",
       "      <td>Lava</td>\n",
       "      <td>5.00</td>\n",
       "    </tr>\n",
       "    <tr>\n",
       "      <th>3</th>\n",
       "      <td>Oppo</td>\n",
       "      <td>4.00</td>\n",
       "    </tr>\n",
       "    <tr>\n",
       "      <th>4</th>\n",
       "      <td>Redmi</td>\n",
       "      <td>3.58</td>\n",
       "    </tr>\n",
       "    <tr>\n",
       "      <th>5</th>\n",
       "      <td>Samsung</td>\n",
       "      <td>4.03</td>\n",
       "    </tr>\n",
       "    <tr>\n",
       "      <th>6</th>\n",
       "      <td>Vivo</td>\n",
       "      <td>3.80</td>\n",
       "    </tr>\n",
       "    <tr>\n",
       "      <th>7</th>\n",
       "      <td>Xiaomi</td>\n",
       "      <td>3.83</td>\n",
       "    </tr>\n",
       "  </tbody>\n",
       "</table>\n",
       "</div>"
      ],
      "text/plain": [
       "     brand  rating\n",
       "0    Apple    4.56\n",
       "1    IKALL    3.15\n",
       "2     Lava    5.00\n",
       "3     Oppo    4.00\n",
       "4    Redmi    3.58\n",
       "5  Samsung    4.03\n",
       "6     Vivo    3.80\n",
       "7  Xiaomi     3.83"
      ]
     },
     "execution_count": 1443,
     "metadata": {},
     "output_type": "execute_result"
    }
   ],
   "source": [
    "average_rating = top.groupby('brand')['rating'].mean().reset_index()\n",
    "average_rating = round(average_rating, 2)\n",
    "average_rating"
   ]
  },
  {
   "cell_type": "code",
   "execution_count": 1448,
   "metadata": {},
   "outputs": [
    {
     "data": {
      "image/png": "[encoded data removed]",
      "text/plain": [
       "<Figure size 1296x648 with 1 Axes>"
      ]
     },
     "metadata": {
      "needs_background": "light"
     },
     "output_type": "display_data"
    },
    {
     "data": {
      "text/plain": [
       "<Figure size 432x288 with 0 Axes>"
      ]
     },
     "metadata": {},
     "output_type": "display_data"
    }
   ],
   "source": [
    "plt.figure(figsize=(18, 9))\n",
    "ax = sns.barplot(x ='brand', y = 'rating' , data = top, ci=None)\n",
    "ax.bar_label(ax.containers[0])\n",
    "plt.title('Average rating per brand')\n",
    "plt.show()\n",
    "plt.clf()"
   ]
  },
  {
   "attachments": {},
   "cell_type": "markdown",
   "metadata": {},
   "source": [
    "Lava has the best average rating, with 5 out of 5, while IKALL has the lowest, with 3.15 out of 5."
   ]
  },
  {
   "attachments": {},
   "cell_type": "markdown",
   "metadata": {},
   "source": [
    "Now let's see if pricing has a correlation to rating, to see if expensive phones tend to rate higher."
   ]
  },
  {
   "cell_type": "code",
   "execution_count": 1444,
   "metadata": {},
   "outputs": [
    {
     "data": {
      "image/png": "[encoded data removed]",
      "text/plain": [
       "<Figure size 1440x864 with 1 Axes>"
      ]
     },
     "metadata": {
      "needs_background": "light"
     },
     "output_type": "display_data"
    },
    {
     "data": {
      "text/plain": [
       "<Figure size 432x288 with 0 Axes>"
      ]
     },
     "metadata": {},
     "output_type": "display_data"
    }
   ],
   "source": [
    "plt.figure(figsize=(20, 12))\n",
    "sns.scatterplot(x='rating', y='price', data = top)\n",
    "plt.title('Relationship between price and rating')\n",
    "plt.show()\n",
    "plt.clf()"
   ]
  },
  {
   "attachments": {},
   "cell_type": "markdown",
   "metadata": {},
   "source": [
    "It seems that apart from a few outliers, the more expensive the phone, the better the rating, meaning there is a positive correlation between pricing and rating."
   ]
  },
  {
   "cell_type": "code",
   "execution_count": 1445,
   "metadata": {},
   "outputs": [
    {
     "name": "stdout",
     "output_type": "stream",
     "text": [
      "27751645 total reviews are included in this dataset\n"
     ]
    }
   ],
   "source": [
    "print(str(top.reviewcount.sum()) + ' total reviews are included in this dataset')\n"
   ]
  },
  {
   "attachments": {},
   "cell_type": "markdown",
   "metadata": {},
   "source": [
    "Now let's calculate the total reviews per brand."
   ]
  },
  {
   "cell_type": "code",
   "execution_count": 1446,
   "metadata": {},
   "outputs": [
    {
     "data": {
      "text/html": [
       "<div>\n",
       "<style scoped>\n",
       "    .dataframe tbody tr th:only-of-type {\n",
       "        vertical-align: middle;\n",
       "    }\n",
       "\n",
       "    .dataframe tbody tr th {\n",
       "        vertical-align: top;\n",
       "    }\n",
       "\n",
       "    .dataframe thead th {\n",
       "        text-align: right;\n",
       "    }\n",
       "</style>\n",
       "<table border=\"1\" class=\"dataframe\">\n",
       "  <thead>\n",
       "    <tr style=\"text-align: right;\">\n",
       "      <th></th>\n",
       "      <th>brand</th>\n",
       "      <th>reviewcount</th>\n",
       "    </tr>\n",
       "  </thead>\n",
       "  <tbody>\n",
       "    <tr>\n",
       "      <th>0</th>\n",
       "      <td>Apple</td>\n",
       "      <td>3163640</td>\n",
       "    </tr>\n",
       "    <tr>\n",
       "      <th>1</th>\n",
       "      <td>IKALL</td>\n",
       "      <td>180</td>\n",
       "    </tr>\n",
       "    <tr>\n",
       "      <th>2</th>\n",
       "      <td>Lava</td>\n",
       "      <td>205</td>\n",
       "    </tr>\n",
       "    <tr>\n",
       "      <th>3</th>\n",
       "      <td>Oppo</td>\n",
       "      <td>3380080</td>\n",
       "    </tr>\n",
       "    <tr>\n",
       "      <th>4</th>\n",
       "      <td>Redmi</td>\n",
       "      <td>11851400</td>\n",
       "    </tr>\n",
       "    <tr>\n",
       "      <th>5</th>\n",
       "      <td>Samsung</td>\n",
       "      <td>7474700</td>\n",
       "    </tr>\n",
       "    <tr>\n",
       "      <th>6</th>\n",
       "      <td>Vivo</td>\n",
       "      <td>131280</td>\n",
       "    </tr>\n",
       "    <tr>\n",
       "      <th>7</th>\n",
       "      <td>Xiaomi</td>\n",
       "      <td>1750160</td>\n",
       "    </tr>\n",
       "  </tbody>\n",
       "</table>\n",
       "</div>"
      ],
      "text/plain": [
       "     brand  reviewcount\n",
       "0    Apple      3163640\n",
       "1    IKALL          180\n",
       "2     Lava          205\n",
       "3     Oppo      3380080\n",
       "4    Redmi     11851400\n",
       "5  Samsung      7474700\n",
       "6     Vivo       131280\n",
       "7  Xiaomi       1750160"
      ]
     },
     "execution_count": 1446,
     "metadata": {},
     "output_type": "execute_result"
    }
   ],
   "source": [
    "review = top.groupby('brand')['reviewcount'].sum().reset_index()\n",
    "review"
   ]
  },
  {
   "cell_type": "code",
   "execution_count": 1447,
   "metadata": {},
   "outputs": [
    {
     "data": {
      "image/png": "[encoded data removed]",
      "text/plain": [
       "<Figure size 1296x648 with 1 Axes>"
      ]
     },
     "metadata": {
      "needs_background": "light"
     },
     "output_type": "display_data"
    },
    {
     "data": {
      "text/plain": [
       "<Figure size 432x288 with 0 Axes>"
      ]
     },
     "metadata": {},
     "output_type": "display_data"
    }
   ],
   "source": [
    "plt.figure(figsize=(18, 9))\n",
    "ax = sns.barplot(x ='brand', y = 'reviewcount' , data = review, ci=None)\n",
    "ax.bar_label(ax.containers[0])\n",
    "plt.title('Total reviews per brand')\n",
    "plt.show()\n",
    "plt.clf()"
   ]
  },
  {
   "attachments": {},
   "cell_type": "markdown",
   "metadata": {},
   "source": [
    "Redmi has the most reviews by far, with 11,851,400 reviews, while IKALL has the fewest, with 180 reviews."
   ]
  },
  {
   "attachments": {},
   "cell_type": "markdown",
   "metadata": {},
   "source": [
    "Let's check if there is a relationship between the number of reviews and the pricing of the smartphones."
   ]
  },
  {
   "cell_type": "code",
   "execution_count": 1451,
   "metadata": {},
   "outputs": [
    {
     "data": {
      "image/png": "[encoded data removed]",
      "text/plain": [
       "<Figure size 1440x864 with 1 Axes>"
      ]
     },
     "metadata": {
      "needs_background": "light"
     },
     "output_type": "display_data"
    },
    {
     "data": {
      "text/plain": [
       "<Figure size 432x288 with 0 Axes>"
      ]
     },
     "metadata": {},
     "output_type": "display_data"
    }
   ],
   "source": [
    "plt.figure(figsize=(20, 12))\n",
    "sns.scatterplot(x='reviewcount', y='price', data = top)\n",
    "plt.title('Relationship between price and reviewcount')\n",
    "plt.show()\n",
    "plt.clf()"
   ]
  },
  {
   "attachments": {},
   "cell_type": "markdown",
   "metadata": {},
   "source": [
    "From the graph, it looks like there is no relationship between the pricing and the review count."
   ]
  },
  {
   "attachments": {},
   "cell_type": "markdown",
   "metadata": {},
   "source": [
    "Finally, we'll check if there is a relationship between the rating and the review count."
   ]
  },
  {
   "cell_type": "code",
   "execution_count": 1454,
   "metadata": {},
   "outputs": [
    {
     "data": {
      "image/png": "[encoded data removed]",
      "text/plain": [
       "<Figure size 1440x864 with 1 Axes>"
      ]
     },
     "metadata": {
      "needs_background": "light"
     },
     "output_type": "display_data"
    },
    {
     "data": {
      "text/plain": [
       "<Figure size 432x288 with 0 Axes>"
      ]
     },
     "metadata": {},
     "output_type": "display_data"
    }
   ],
   "source": [
    "plt.figure(figsize=(20, 12))\n",
    "sns.scatterplot(x='reviewcount', y='rating', data = top)\n",
    "plt.title('Relationship between rating and reviewcount')\n",
    "plt.show()\n",
    "plt.clf()"
   ]
  },
  {
   "attachments": {},
   "cell_type": "markdown",
   "metadata": {},
   "source": [
    "It seems that there is no relationship between review count and rating."
   ]
  },
  {
   "attachments": {},
   "cell_type": "markdown",
   "metadata": {},
   "source": [
    "### 3 - Conclusion"
   ]
  },
  {
   "attachments": {},
   "cell_type": "markdown",
   "metadata": {},
   "source": [
    "From this small datset, we can learn a few things about the top mobile brands on Amazon in India."
   ]
  },
  {
   "attachments": {},
   "cell_type": "markdown",
   "metadata": {},
   "source": [
    "The dataset contains a lot of entry-level and midrange smartphone models, and a few expensive flagship models."
   ]
  },
  {
   "attachments": {},
   "cell_type": "markdown",
   "metadata": {},
   "source": [
    "Samsung smartophones are the most common phones in this dataset, while Apple phones are the most expensive. Lava phones are the highest-rated with a 5 out of 5 rating, while Redmi phones have the highest number of votes, at 11,851,400."
   ]
  },
  {
   "attachments": {},
   "cell_type": "markdown",
   "metadata": {},
   "source": [
    "IKALL phones are the least represtended, with the lowest rating and the lowest number of reviews, while being the cheapest of the bunch."
   ]
  },
  {
   "attachments": {},
   "cell_type": "markdown",
   "metadata": {},
   "source": [
    "The smartphones usually have a high rating, with more than 4 out of 5, with some phones getting less than that."
   ]
  },
  {
   "attachments": {},
   "cell_type": "markdown",
   "metadata": {},
   "source": [
    "The higher the pricing of the smartphone the higher the rating, but the the number of reviews has no effect on the rating or pricing."
   ]
  },
  {
   "attachments": {},
   "cell_type": "markdown",
   "metadata": {},
   "source": [
    "This means that if a smartphone brand launches a phone in India on Amazon, it will have a better chance at selling more with a midrange phone."
   ]
  }
 ],
 "metadata": {
  "kernelspec": {
   "display_name": "Python 3.9.12 ('base')",
   "language": "python",
   "name": "python3"
  },
  "language_info": {
   "codemirror_mode": {
    "name": "ipython",
    "version": 3
   },
   "file_extension": ".py",
   "mimetype": "text/x-python",
   "name": "python",
   "nbconvert_exporter": "python",
   "pygments_lexer": "ipython3",
   "version": "3.9.12"
  },
  "orig_nbformat": 4,
  "vscode": {
   "interpreter": {
    "hash": "3383907eb521f077d61ac60bdb58edc654d12aff0585d2dbcdb412ac3dd7a820"
   }
  }
 },
 "nbformat": 4,
 "nbformat_minor": 2
}
